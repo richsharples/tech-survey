{
 "cells": [
  {
   "cell_type": "code",
   "execution_count": 158,
   "id": "aa155847-1209-4482-aa6a-92e8e689aeca",
   "metadata": {
    "editable": true,
    "slideshow": {
     "slide_type": ""
    },
    "tags": []
   },
   "outputs": [
    {
     "data": {
      "text/html": [
       "        <script type=\"text/javascript\">\n",
       "        window.PlotlyConfig = {MathJaxConfig: 'local'};\n",
       "        if (window.MathJax && window.MathJax.Hub && window.MathJax.Hub.Config) {window.MathJax.Hub.Config({SVG: {font: \"STIX-Web\"}});}\n",
       "        if (typeof require !== 'undefined') {\n",
       "        require.undef(\"plotly\");\n",
       "        requirejs.config({\n",
       "            paths: {\n",
       "                'plotly': ['https://cdn.plot.ly/plotly-2.32.0.min']\n",
       "            }\n",
       "        });\n",
       "        require(['plotly'], function(Plotly) {\n",
       "            window._Plotly = Plotly;\n",
       "        });\n",
       "        }\n",
       "        </script>\n",
       "        "
      ]
     },
     "metadata": {},
     "output_type": "display_data"
    }
   ],
   "source": [
    "\"\"\"\n",
    "File: survey2024.ipynb\n",
    "Author: Rich Sharples\n",
    "Date: October-2024\n",
    "Description: \n",
    "\"\"\"\n",
    "\n",
    "import numpy as np # linear algebra\n",
    "import pandas as pd # data processing, CSV file I/O (e.g. pd.read_csv)\n",
    "\n",
    "import matplotlib.pyplot as plt\n",
    "import seaborn as sns\n",
    "color = sns.color_palette()\n",
    "%matplotlib inline\n",
    "\n",
    "import plotly.offline as py\n",
    "\n",
    "py.init_notebook_mode(connected=True)\n",
    "\n",
    "from collections import Counter\n",
    "\n",
    "import plotly.graph_objs as go\n",
    "import plotly.tools as tls\n",
    "\n",
    "pd.options.mode.chained_assignment = None\n",
    "pd.options.display.max_columns = 999\n",
    "\n",
    "import csv\n",
    "\n",
    "import math\n",
    "\n",
    "# ignore category data less than this threshold\n",
    "THRESHOLD = 4 \n",
    "\n",
    "#\n",
    "# Function : double_bar_chart\n",
    "#\n",
    "def double_bar_chart(qnum, qtext, ds1_name, data_series_1, ds2_name, data_series_2):\n",
    "\n",
    "    ct = f\"{qnum} : {qtext} (n={data_series_1.sum()+data_series_2.sum()})\"\n",
    "    \n",
    "    # Create the figure with stacked bars\n",
    "    fig = go.Figure(data=[\n",
    "        go.Bar(name=ds1_name, x=data_series_1.index, y=data_series_1.values),\n",
    "        go.Bar(name=ds2_name, x=data_series_2.index, y=data_series_2.values)\n",
    "    ])\n",
    "\n",
    "    # Update the layout to stack the bars\n",
    "    fig.update_layout(\n",
    "        barmode='stack',\n",
    "        title=ct,\n",
    "        plot_bgcolor=\"#FFFFFF\",\n",
    "        showlegend=True,\n",
    "        xaxis={'categoryorder':'total descending'})\n",
    "\n",
    "    fig.update_layout(width=900, height=500, bargap=0.05)\n",
    "    \n",
    "    # Show the plot\n",
    "    fig.show()\n",
    "\n",
    "    #Anything interesting in Other ?\n",
    "\n",
    "    qother=qnum+\"Other\"\n",
    "\n",
    "    others=[]\n",
    "    if qother in raw_df.columns:\n",
    "        for v in raw_df[qother]:\n",
    "           others.append (v)\n",
    "\n",
    "        # Create a Counter object to count the frequency of each string\n",
    "        frequency_counts = Counter(others)\n",
    "\n",
    "        # Convert the Counter to a list of tuples (unique string, count)\n",
    "        unique_entries_with_counts = list(frequency_counts.items())\n",
    "\n",
    "        # Sort by frequency (descending)\n",
    "        sorted_by_frequency = sorted(unique_entries_with_counts, key=lambda x: x[1], reverse=True)\n",
    "\n",
    "        listofothers=[]\n",
    "    \n",
    "        for x in sorted_by_frequency:\n",
    "            if (not (str(x[0]) == \"nan\"))   & (x[1] > THRESHOLD):\n",
    "                listofothers.append( (f\"{x[0]}({x[1]})\"))\n",
    "\n",
    "        tmpstr = \" \".join(listofothers)\n",
    "  \n",
    "        print(f\"Other answers with frequency greater than {THRESHOLD} : {tmpstr}\")\n",
    "  \n"
   ]
  },
  {
   "cell_type": "code",
   "execution_count": 159,
   "id": "68e5bbb1-735e-4d67-9a71-e9805a4892aa",
   "metadata": {
    "editable": true,
    "jp-MarkdownHeadingCollapsed": true,
    "slideshow": {
     "slide_type": ""
    },
    "tags": []
   },
   "outputs": [
    {
     "name": "stderr",
     "output_type": "stream",
     "text": [
      "/opt/anaconda3/lib/python3.12/site-packages/openpyxl/styles/stylesheet.py:226: UserWarning:\n",
      "\n",
      "Workbook contains no default style, apply openpyxl's default\n",
      "\n"
     ]
    },
    {
     "ename": "TypeError",
     "evalue": "'Index' object is not callable",
     "output_type": "error",
     "traceback": [
      "\u001b[0;31m---------------------------------------------------------------------------\u001b[0m",
      "\u001b[0;31mTypeError\u001b[0m                                 Traceback (most recent call last)",
      "Cell \u001b[0;32mIn[159], line 70\u001b[0m\n\u001b[1;32m     67\u001b[0m home_df \u001b[38;5;241m=\u001b[39m raw_df\u001b[38;5;241m.\u001b[39mquery(\u001b[38;5;124m\"\u001b[39m\u001b[38;5;124m`Q1` == @CHOME\u001b[39m\u001b[38;5;124m\"\u001b[39m)\u001b[38;5;241m.\u001b[39mcopy()\n\u001b[1;32m     68\u001b[0m work_df \u001b[38;5;241m=\u001b[39m raw_df\u001b[38;5;241m.\u001b[39mquery(\u001b[38;5;124m\"\u001b[39m\u001b[38;5;124m`Q1` == @CWORK\u001b[39m\u001b[38;5;124m\"\u001b[39m)\u001b[38;5;241m.\u001b[39mcopy()\n\u001b[0;32m---> 70\u001b[0m \u001b[38;5;28mprint\u001b[39m (raw_df\u001b[38;5;241m.\u001b[39mcolumns())\n",
      "\u001b[0;31mTypeError\u001b[0m: 'Index' object is not callable"
     ]
    }
   ],
   "source": [
    "DATA_FILENAME = \"raw-data-102624.xlsx\"\n",
    "QUESTION_FILENAME = \"questions.csv\"\n",
    "\n",
    "#read questions from separate file\n",
    "questions = { }\n",
    "with open(QUESTION_FILENAME) as f:\n",
    "    reader = csv.reader(f, skipinitialspace=True)\n",
    "    questions = dict(reader)\n",
    "\n",
    "raw_df = pd.read_excel(DATA_FILENAME, engine=\"openpyxl\")\n",
    "\n",
    "#drop columns we don't care about\n",
    "raw_df.drop (columns=['#', \"Response Type\", \"Start Date (UTC)\", \"Stage Date (UTC)\", \"Submit Date (UTC)\", \"Network ID\", \"Tags\"], inplace=True)\n",
    "\n",
    "#rename remaining columns to make things easier to acces using \"Qn\" as the key\n",
    "\n",
    "\n",
    "# Qs 15, 18, 19, 20 .Other contain commas which are also field delimiters so need to replace\n",
    "\n",
    "raw_df.columns = raw_df.columns.str.replace(', please detail them here.', '- please detail them here.')\n",
    "\n",
    "\n",
    "col_names = {}\n",
    "for q in questions.keys():\n",
    "    col_names[questions[q]] = q\n",
    "\n",
    "raw_df.rename( columns=col_names, inplace=True)\n",
    "\n",
    "#\n",
    "# data cleaning\n",
    "#\n",
    "\n",
    "\n",
    "# \"$\" signs in Q4 break plotly so replace with \"USD\"\n",
    "tempdf = raw_df[\"Q4\"] \\\n",
    "    .str.replace('US$', 'USD ', regex=False) \\\n",
    "    .str.replace('million', 'MM', regex=False) \\\n",
    "    .str.replace('billion', 'BB', regex=False) \\\n",
    "    .str.replace('$', 'USD ', regex=False)\n",
    "\n",
    "raw_df[\"Q4\"] = tempdf\n",
    "\n",
    "\n",
    "# shorten country names in Q10\n",
    "\n",
    "tempdf = raw_df[\"Q10\"] \\\n",
    "    .str.replace('United Kingdom', 'UK', regex=False) \\\n",
    "    .str.replace('New Zealand', 'NZ', regex=False) \\\n",
    "    .str.replace('Czech Republic', 'CZ', regex=False) \\\n",
    "    .str.replace('United States', 'USA', regex=False)\n",
    "\n",
    "raw_df[\"Q10\"] = tempdf\n",
    "\n",
    "# shorten Q11 answers\n",
    "tempdf = raw_df[\"Q11\"] \\\n",
    "    .str.replace('Developing and packaging custom developed software', 'custom s/w', regex=False) \\\n",
    "    .str.replace('Installing containerized open source software', 'OSS', regex=False) \\\n",
    "    .str.replace('Installing containerized commercial software', 'commercial s/w', regex=False) \\\n",
    "\n",
    "raw_df[\"Q11\"] = tempdf\n",
    "\n",
    "# split into two data sets depending on Home or Work question 1\n",
    "\n",
    "CHOME = \"At home\"\n",
    "CWORK = \"At work\"\n",
    "\n",
    "home_df = raw_df.query(\"`Q1` == @CHOME\").copy()\n",
    "work_df = raw_df.query(\"`Q1` == @CWORK\").copy()\n",
    "\n",
    "print (raw_df.head())"
   ]
  },
  {
   "cell_type": "code",
   "execution_count": null,
   "id": "3e15e3dc-96e1-4f0e-8a6f-4d83dab4dcc1",
   "metadata": {
    "editable": true,
    "slideshow": {
     "slide_type": ""
    },
    "tags": []
   },
   "outputs": [],
   "source": [
    "# Q1 - home or work ?\n",
    "#\n",
    "\n",
    "temp_series = raw_df['Q1'].value_counts()\n",
    "labels = (np.array(temp_series.index))\n",
    "sizes = (np.array((temp_series)))\n",
    "\n",
    "\n",
    "trace = go.Pie(labels=labels, values=sizes)\n",
    "layout = go.Layout(\n",
    "    title='Home vs Work'\n",
    ")\n",
    "data = [trace]\n",
    "fig = go.Figure(data=data, layout=layout)\n",
    "py.iplot(fig, filename=\"home-work\")\n",
    "\n"
   ]
  },
  {
   "cell_type": "code",
   "execution_count": null,
   "id": "72b68e16-7de5-46a8-b4f9-2e266b28bf6b",
   "metadata": {
    "editable": true,
    "slideshow": {
     "slide_type": ""
    },
    "tags": []
   },
   "outputs": [],
   "source": [
    "#\n",
    "# Questions Q3 to Q11 are the same data format\n",
    "#\n",
    "\n",
    "selected_qs = ['Q3', 'Q4', 'Q5', 'Q6', 'Q7', 'Q8', 'Q9', 'Q10', 'Q11']\n",
    "#selected_qs = ['Q8']\n",
    "for key in selected_qs:\n",
    "    if key in questions and not (key == \"0\"): \n",
    "        value = questions[key]\n",
    "        double_bar_chart(\n",
    "                 key,\n",
    "                 questions[key], \n",
    "                 CWORK, work_df[key].value_counts()[lambda x: x > THRESHOLD], \n",
    "                 CHOME, home_df[key].value_counts()[lambda x: x > THRESHOLD])\n",
    "\n"
   ]
  },
  {
   "cell_type": "code",
   "execution_count": null,
   "id": "e687e5ce-e965-4d31-a959-6da08eee60c9",
   "metadata": {
    "editable": true,
    "slideshow": {
     "slide_type": ""
    },
    "tags": []
   },
   "outputs": [],
   "source": [
    "# \n",
    "# Q12.A1 - Q12.A8\n",
    "# Answers are in columns Q12.A1 - Q12.A8 \n",
    "# conactenate the list of value counts and pass them to the standard chart function\n",
    "#\n",
    "\n",
    "wq = pd.concat([work_df[\"Q12.A1\"].value_counts(),\\\n",
    "                work_df[\"Q12.A3\"].value_counts(),\\\n",
    "                work_df[\"Q12.A4\"].value_counts(),\\\n",
    "                work_df[\"Q12.A5\"].value_counts(),\\\n",
    "                work_df[\"Q12.A6\"].value_counts(),\\\n",
    "                work_df[\"Q12.A7\"].value_counts(),\\\n",
    "                work_df[\"Q12.A8\"].value_counts()])\n",
    "\n",
    "hq = pd.concat([home_df[\"Q12.A1\"].value_counts(),\\\n",
    "                home_df[\"Q12.A2\"].value_counts(),\\\n",
    "                home_df[\"Q12.A3\"].value_counts(),\\\n",
    "                home_df[\"Q12.A4\"].value_counts(),\\\n",
    "                home_df[\"Q12.A5\"].value_counts(),\\\n",
    "                home_df[\"Q12.A6\"].value_counts(),\\\n",
    "                home_df[\"Q12.A7\"].value_counts(),\\\n",
    "                home_df[\"Q12.A8\"].value_counts()])\n",
    "\n",
    "double_bar_chart(\n",
    "    \"Q12.A1\",\n",
    "    questions[\"#Q12\"], \n",
    "    CWORK, wq[lambda x: x > THRESHOLD], \n",
    "    CHOME, hq[lambda x: x > THRESHOLD])\n"
   ]
  },
  {
   "cell_type": "code",
   "execution_count": null,
   "id": "f4897610-4cc7-4a9e-84fd-9b41d879761c",
   "metadata": {
    "editable": true,
    "slideshow": {
     "slide_type": ""
    },
    "tags": []
   },
   "outputs": [],
   "source": [
    "# \n",
    "# Q13.A1 - Q13.A7\n",
    "#\n",
    "\n",
    "wq = pd.concat([work_df[\"Q13.A1\"].value_counts(),\\\n",
    "                work_df[\"Q13.A3\"].value_counts(),\\\n",
    "                work_df[\"Q13.A4\"].value_counts(),\\\n",
    "                work_df[\"Q13.A5\"].value_counts(),\\\n",
    "                work_df[\"Q13.A6\"].value_counts(),\\\n",
    "                work_df[\"Q13.A7\"].value_counts(),\\\n",
    "                work_df[\"Q13.Other\"].value_counts()])\n",
    "\n",
    "hq = pd.concat([home_df[\"Q13.A1\"].value_counts(),\\\n",
    "                home_df[\"Q13.A2\"].value_counts(),\\\n",
    "                home_df[\"Q13.A3\"].value_counts(),\\\n",
    "                home_df[\"Q13.A4\"].value_counts(),\\\n",
    "                home_df[\"Q13.A5\"].value_counts(),\\\n",
    "                home_df[\"Q13.A6\"].value_counts(),\\\n",
    "                home_df[\"Q13.A7\"].value_counts(),\\\n",
    "                home_df[\"Q13.Other\"].value_counts()])\n",
    "\n",
    "double_bar_chart(\n",
    "    \"Q13.A1\",\n",
    "    questions[\"#Q13\"], \n",
    "    CWORK, wq[lambda x: x > THRESHOLD], \n",
    "    CHOME, hq[lambda x: x > THRESHOLD])\n"
   ]
  },
  {
   "cell_type": "code",
   "execution_count": null,
   "id": "488e245f-7a91-4a99-95a4-79fe4dbd8557",
   "metadata": {
    "editable": true,
    "slideshow": {
     "slide_type": ""
    },
    "tags": []
   },
   "outputs": [],
   "source": [
    "# \n",
    "# Q14.A1 - Q14.A4\n",
    "#\n",
    "\n",
    "wq = pd.concat([work_df[\"Q14.A1\"].value_counts(),\\\n",
    "                work_df[\"Q14.A3\"].value_counts(),\\\n",
    "                work_df[\"Q14.A4\"].value_counts(),\\\n",
    "                work_df[\"Q14.Other\"].value_counts()])\n",
    "\n",
    "hq = pd.concat([home_df[\"Q14.A1\"].value_counts(),\\\n",
    "                home_df[\"Q14.A2\"].value_counts(),\\\n",
    "                home_df[\"Q14.A3\"].value_counts(),\\\n",
    "                home_df[\"Q14.A4\"].value_counts(),\\\n",
    "                home_df[\"Q14.Other\"].value_counts()])\n",
    "\n",
    "double_bar_chart(\n",
    "    \"Q14.A1\",\n",
    "    questions[\"#Q14\"], \n",
    "    CWORK, wq[lambda x: x > THRESHOLD], \n",
    "    CHOME, hq[lambda x: x > THRESHOLD])\n"
   ]
  },
  {
   "cell_type": "code",
   "execution_count": null,
   "id": "783a5cba-ad0b-48f3-9b19-ca0d4fdd3e92",
   "metadata": {
    "editable": true,
    "slideshow": {
     "slide_type": ""
    },
    "tags": []
   },
   "outputs": [],
   "source": [
    "# \n",
    "# Q15.A1 - Q15.A4\n",
    "#\n",
    "\n",
    "wq = pd.concat([work_df[\"Q15.A1\"].value_counts(),\\\n",
    "                work_df[\"Q15.A2\"].value_counts(),\\\n",
    "                work_df[\"Q15.A3\"].value_counts(),\\\n",
    "                work_df[\"Q15.A4\"].value_counts(),\\\n",
    "                work_df[\"Q15.A5\"].value_counts(),\\\n",
    "                work_df[\"Q15.Other\"].value_counts()])\n",
    "\n",
    "hq = pd.concat([home_df[\"Q15.A1\"].value_counts(),\\\n",
    "                home_df[\"Q15.A2\"].value_counts(),\\\n",
    "                home_df[\"Q15.A3\"].value_counts(),\\\n",
    "                home_df[\"Q15.A4\"].value_counts(),\\\n",
    "                home_df[\"Q15.A5\"].value_counts(),\\\n",
    "                home_df[\"Q15.Other\"].value_counts()])\n",
    "\n",
    "double_bar_chart(\n",
    "    \"Q15.A1\",\n",
    "    questions[\"#Q15\"], \n",
    "    CWORK, wq[lambda x: x > THRESHOLD], \n",
    "    CHOME, hq[lambda x: x > THRESHOLD])\n"
   ]
  },
  {
   "cell_type": "code",
   "execution_count": null,
   "id": "0d33934c-6085-4f0e-8dcc-3d822fbf089c",
   "metadata": {},
   "outputs": [],
   "source": []
  }
 ],
 "metadata": {
  "kernelspec": {
   "display_name": "Python 3 (ipykernel)",
   "language": "python",
   "name": "python3"
  },
  "language_info": {
   "codemirror_mode": {
    "name": "ipython",
    "version": 3
   },
   "file_extension": ".py",
   "mimetype": "text/x-python",
   "name": "python",
   "nbconvert_exporter": "python",
   "pygments_lexer": "ipython3",
   "version": "3.9.6"
  }
 },
 "nbformat": 4,
 "nbformat_minor": 5
}
